{
 "cells": [
  {
   "cell_type": "code",
   "execution_count": null,
   "metadata": {},
   "outputs": [],
   "source": [
    "import torch\n",
    "from Model import Scalable\n",
    "import pickle \n",
    "\n",
    "model = Scalable(in_channels=len(new_vertices[0][1]), hidden_channels=512,out_channels=256, num_layers=2)\n",
    "model.load_state_dict(torch.load('model_parameters'))\n",
    "model.inference(new_vertices,old_vertices,rels)"
   ]
  }
 ],
 "metadata": {
  "kernelspec": {
   "display_name": "Python 3",
   "language": "python",
   "name": "python3"
  },
  "language_info": {
   "codemirror_mode": {
    "name": "ipython",
    "version": 3
   },
   "file_extension": ".py",
   "mimetype": "text/x-python",
   "name": "python",
   "nbconvert_exporter": "python",
   "pygments_lexer": "ipython3",
   "version": "3.7.7"
  }
 },
 "nbformat": 4,
 "nbformat_minor": 4
}

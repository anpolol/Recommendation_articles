{
 "cells": [
  {
   "cell_type": "code",
   "execution_count": 1,
   "metadata": {},
   "outputs": [],
   "source": [
    "#!pip install torch-scatter -f https://pytorch-geometric.com/whl/torch-1.7.0+cu101.html\n",
    "#!pip install torch-sparse -f https://pytorch-geometric.com/whl/torch-1.7.0+cu101.html\n",
    "#!pip install torch-geometric\n"
   ]
  },
  {
   "cell_type": "code",
   "execution_count": 2,
   "metadata": {},
   "outputs": [],
   "source": [
    "#!pip install git+https://github.com/rusty1s/pyg_autoscale.git"
   ]
  },
  {
   "cell_type": "code",
   "execution_count": 1,
   "metadata": {},
   "outputs": [],
   "source": [
    "import torch\n",
    "import torch_geometric.transforms as T\n",
    "from torch_geometric.datasets import Planetoid\n",
    "import torch_geometric\n",
    "from torch_sparse import SparseTensor\n",
    "from torch_geometric.data import Data\n",
    "from torch_geometric_autoscale import metis, permute, SubgraphLoader\n",
    "import numpy as np\n",
    "from matplotlib import pyplot as plt\n",
    "from torch_geometric.nn import SAGEConv\n",
    "from torch_geometric_autoscale.models.base import ScalableGNN\n",
    "from torch_geometric_autoscale import metis, permute, SubgraphLoader\n",
    "from torch.nn import ModuleList\n",
    "from datetime import datetime\n",
    "from sklearn.metrics import roc_auc_score\n",
    "from torch_geometric.utils import to_undirected\n",
    "import json\n",
    "from uuid import UUID\n",
    "from base64 import b64decode as b64d\n",
    "import networkx as nx\n",
    "from Model import Scalable\n",
    "import pandas as pd\n",
    "import torch\n",
    "import pickle \n",
    "from torch_geometric.data.sampler import NeighborSampler"
   ]
  },
  {
   "cell_type": "code",
   "execution_count": 2,
   "metadata": {},
   "outputs": [],
   "source": [
    "import random\n",
    "import itertools\n",
    "def dataprocess(data): #удаление ребер для валидации \n",
    "        #splitting data to train and test\n",
    "        \n",
    "        length=len(data.edge_index[0])\n",
    "        shake_index  = (np.random.choice(list(range(length)), int(len(data.edge_index[0])),replace=False))\n",
    "        data.edge_index = torch.transpose(torch.transpose(data.edge_index,0,1)[torch.tensor(shake_index,dtype=torch.long)],0,1)\n",
    "       \n",
    "        edges_list=data.edge_index.t().tolist()\n",
    "        adj_list={}\n",
    "        \n",
    "        for edge in edges_list:\n",
    "            if edge[0] not in adj_list:\n",
    "                adj_list[edge[0]]=[edge[1]]\n",
    "            else:\n",
    "                adj_list[edge[0]].append(edge[1])\n",
    "            if edge[1] not in adj_list:\n",
    "                adj_list[edge[1]]=[edge[0]]\n",
    "            else:\n",
    "                adj_list[edge[1]].append(edge[0])\n",
    "                \n",
    "\n",
    "        non_edges=[]\n",
    "        for i in range(int(length*0.2)):\n",
    "            n=np.random.randint(len(data.x))\n",
    "            m=np.random.randint(len(data.x))\n",
    "            if n in adj_list:\n",
    "                if m in adj_list[n]:\n",
    "                    while m in adj_list[n]:\n",
    "                        m = np.random.randint(len(data.x))\n",
    "            non_edges.append([n,m])\n",
    "            \n",
    "        non_edges=torch.tensor(non_edges).t()\n",
    "        val_edge_index=torch.cat((data.edge_index.t()[int(length*0.8):].t(),non_edges),1)\n",
    "        y_true_val = [1]*int(len(data.edge_index.t()[int(length*0.8):]))+[0]*len(non_edges.t())\n",
    "        \n",
    "        data.edge_index =data.edge_index.t()[:int(length*0.8)].t()\n",
    "        \n",
    "        return data,non_edges,val_edge_index,y_true_val #data уже обрезанная по ребрам"
   ]
  },
  {
   "cell_type": "code",
   "execution_count": 3,
   "metadata": {},
   "outputs": [],
   "source": [
    "with open('data_connected','rb') as f:\n",
    "    data_init=pickle.load(f)"
   ]
  },
  {
   "cell_type": "code",
   "execution_count": 4,
   "metadata": {},
   "outputs": [],
   "source": [
    "def di_to_undirected(data):\n",
    "    data.edge_index=to_undirected(data.edge_index)\n",
    "    data.adj_t=SparseTensor(row=data.edge_index[0],col=data.edge_index[1],sparse_sizes=(len(data.x),len(data.x)))\n",
    "    #SparseTensor.from_edge_index(data.edge_index)\n",
    "    return data"
   ]
  },
  {
   "cell_type": "code",
   "execution_count": 5,
   "metadata": {},
   "outputs": [],
   "source": [
    "#data_init, mapping_new_to_old,mapping_old_to_new=data_load() #data_init - это самый изначальный граф, маппинги вершин\n",
    "data_init,non_edges_val,val_edge_index,y_true_val = dataprocess(data_init) #data - здесь уже без части ребер, для валидации надо\n",
    "data_init = di_to_undirected(data_init)#добавление ребер в обратную сторону"
   ]
  },
  {
   "cell_type": "code",
   "execution_count": 6,
   "metadata": {},
   "outputs": [
    {
     "data": {
      "text/plain": [
       "<All keys matched successfully>"
      ]
     },
     "execution_count": 6,
     "metadata": {},
     "output_type": "execute_result"
    }
   ],
   "source": [
    "model = Scalable(num_of_nodes=len(data_init.x), in_channels=len(data_init.x[0]), hidden_channels=128,out_channels=128, num_layers=2)\n",
    "model.load_state_dict(torch.load('model_parameters'))\n",
    "\n",
    "#model.inference(new_vertices,old_vertices,rels)\n"
   ]
  },
  {
   "cell_type": "code",
   "execution_count": 7,
   "metadata": {},
   "outputs": [],
   "source": [
    "#perm, ptr = metis(dataset.adj_t, num_parts = 5000, log=True)\n",
    "#data_init = permute(dataset, perm, log=True) "
   ]
  },
  {
   "cell_type": "code",
   "execution_count": 8,
   "metadata": {},
   "outputs": [
    {
     "data": {
      "text/plain": [
       "Scalable(\n",
       "  (histories): ModuleList(\n",
       "    (0): History(789294, 128, emb_device=cpu, device=cuda:0)\n",
       "  )\n",
       "  (convs): ModuleList(\n",
       "    (0): SAGEConv(768, 128)\n",
       "    (1): SAGEConv(128, 128)\n",
       "  )\n",
       "  (pool): AsyncIOPool(pool_size=4, buffer_size=70000, embedding_dim=128, device=cuda:0)\n",
       ")"
      ]
     },
     "execution_count": 8,
     "metadata": {},
     "output_type": "execute_result"
    }
   ],
   "source": [
    "device='cuda'\n",
    "model.to(device)"
   ]
  },
  {
   "cell_type": "raw",
   "metadata": {},
   "source": [
    "n = len(data_init.x)\n",
    "k = 1000\n",
    "ptr = list()\n",
    "\n",
    "step = n // k\n",
    "limit = n % k\n",
    "\n",
    "for i in range(limit):\n",
    "    ptr.append(i*(step+1))\n",
    "for i in range(k-limit):\n",
    "    ptr.append(limit*(step+1)+i*step)\n",
    "ptr.append(n)\n",
    "ptr=torch.tensor(ptr)"
   ]
  },
  {
   "cell_type": "raw",
   "metadata": {},
   "source": [
    "loader = SubgraphLoader(data_init, ptr, batch_size=1, shuffle=True)"
   ]
  },
  {
   "cell_type": "code",
   "execution_count": 9,
   "metadata": {},
   "outputs": [],
   "source": [
    "def neg_samples(edge_index,ind,num_negative_samples): #возвращает негативные примеры\n",
    "    d=datetime.now()\n",
    "    neg_samples=torch.Tensor(size=(len(ind),num_negative_samples+1))\n",
    "    neg_samples.t()[0] = ind\n",
    "    for i in ind:\n",
    "        d=datetime.now()\n",
    "        neig=(edge_index[1][(edge_index[0]==i).nonzero(as_tuple=True)[0]])\n",
    "        neg_neigbors=ind[~ind.unsqueeze(1).eq(neig).any(1)] #difference between all indices and neighbors\n",
    "        neg_neigbors=(neg_neigbors[(neg_neigbors!=i).nonzero(as_tuple=True)[0]])\n",
    "        #probs = torch.zeros(max(neg_neigbors)+1)\n",
    "        d=datetime.now()\n",
    "        #probs[neg_neigbors]=1\n",
    "        d = datetime.now()\n",
    "        neg_samples[i][1:]=torch.tensor(np.random.choice(neg_neigbors,num_negative_samples))\n",
    "    return neg_samples\n",
    "\n",
    "def edge_index(batch,size): #выбираются ребра только для батча и только для вершин внутри батча\n",
    "    adj = batch.adj_t\n",
    "    t = (adj.to_torch_sparse_coo_tensor()).coalesce()\n",
    "    ind = torch.tensor(range(size))\n",
    "    edge_index = t.indices().cpu()\n",
    "    first = ((edge_index[0]<len(ind)).nonzero(as_tuple=True)[0])\n",
    "    second = ((edge_index[1]<len(ind)).nonzero(as_tuple=True)[0])\n",
    "    new_indices = (torch.tensor(np.intersect1d(first.cpu(),second.cpu())))\n",
    "    edge_index1 =  edge_index[0][new_indices]\n",
    "    edge_index2 = edge_index[1][new_indices]\n",
    "    return (torch.stack([edge_index1, edge_index2], dim=0)),ind"
   ]
  },
  {
   "cell_type": "code",
   "execution_count": 10,
   "metadata": {},
   "outputs": [],
   "source": [
    "def pos_samples(n_id,batch_size,adjs):\n",
    "    for i,(edge_index, _, size) in enumerate(adjs):\n",
    "        if i==1:\n",
    "            ind = torch.tensor(range(size[1]))\n",
    "            new_ind = (edge_index[0]<batch_size).nonzero(as_tuple=True)[0]\n",
    "            #second = (edge_index[0]>=start_batch).nonzero(as_tuple=True)[0]\n",
    "            #new_indices =  (torch.tensor(np.intersect1d(first.cpu(),second.cpu())))\n",
    "            edge_index1 =  edge_index[0][new_ind]\n",
    "            edge_index2 = edge_index[1][new_ind]\n",
    "            return (torch.stack([edge_index1, edge_index2], dim=0)),ind"
   ]
  },
  {
   "cell_type": "code",
   "execution_count": 11,
   "metadata": {},
   "outputs": [],
   "source": [
    "def mapping(e_index):\n",
    "    s = sorted(list(set(e_index[0].tolist()).union(set(e_index[1].tolist()))))\n",
    "    print('sss',s)\n",
    "    mapping = {}\n",
    "    k=0\n",
    "    for i in (s):\n",
    "        if i not in mapping:\n",
    "            mapping[i] = k\n",
    "            k+=1\n",
    "    \n",
    "    e_1 =torch.tensor(list(map(lambda x: mapping[x] , e_index[0].tolist())))\n",
    "    e_2 = torch.tensor(list(map(lambda x: mapping[x] , e_index[1].tolist())))\n",
    "    new_e_index=torch.stack([e_1, e_2], dim=0)\n",
    "    \n",
    "    return new_e_index"
   ]
  },
  {
   "cell_type": "code",
   "execution_count": 12,
   "metadata": {},
   "outputs": [],
   "source": [
    "def train(model,data,loader,num_negative_smples,device):\n",
    "    total_loss = 0\n",
    "    model.train()\n",
    "    l=len(loader)\n",
    "    for i,args in enumerate(loader):\n",
    "      #  print('{}/{}'.format(i,l))\n",
    "        optimizer.zero_grad()\n",
    "        (batch_size, n_id, adjs) = args\n",
    "        #todo = подумать мб переделать \n",
    "        e_index,ind = pos_samples(n_id,batch_size,adjs)\n",
    "       # e_index =mapping(e_index)\n",
    "        pos = e_index.t()\n",
    "        neg = neg_samples(e_index,ind,num_negative_smples)\n",
    "        ###\n",
    "        adjs = [adj.to(device) for adj in adjs]\n",
    "        data_to_infer = data.x[n_id.to(device)].to(device)\n",
    "            #data_to_infer = data_to_infer.to(device)\n",
    "        out = model.forward(data_to_infer, adjs,batch_size,n_id)\n",
    "        #print(out.shape)\n",
    "        ###\n",
    "        pos = pos.to(device)\n",
    "        neg = neg.to(device)\n",
    "        \n",
    "        samples = (pos,neg)\n",
    "        #print(out.shape)\n",
    "        loss = model.loss(out, samples)\n",
    "        loss.backward()\n",
    "        ###\n",
    "        optimizer.step() \n",
    "        total_loss+=loss\n",
    "    return total_loss/len(loader)\n",
    "   \n",
    "def test(y_true,model,data,val_edge_index,loader):\n",
    "    val_edge_index=(val_edge_index.t()).tolist() \n",
    "    model.eval()   \n",
    "    preds = []\n",
    "    outs=[]\n",
    "    l=len(loader)\n",
    "    for i,args in enumerate(loader):\n",
    "            #print('{}/{}'.format(i,l))\n",
    "            (batch_size, n_id, adjs) = args\n",
    "            adjs = [adj.to(device) for adj in adjs]\n",
    "            n_id = n_id.to(device)\n",
    "            data_to_infer = data.x[n_id].to(device)\n",
    "            #data_to_infer = data_to_infer.to(device)\n",
    "            out = model.forward_for_val(data_to_infer, adjs)\n",
    "            outs+=(out.cpu().tolist())\n",
    "\n",
    "    outs=torch.tensor(outs)\n",
    "    preds=[]\n",
    "    all_ind=len(val_edge_index)\n",
    "    for i,(e_from, e_to) in enumerate(val_edge_index):\n",
    "        out_1=outs[e_from]\n",
    "        out_2=outs[e_to]\n",
    "        preds.append(float(torch.sigmoid(torch.dot(out_1,out_2))))\n",
    "    return roc_auc_score(y_true,preds)"
   ]
  },
  {
   "cell_type": "code",
   "execution_count": null,
   "metadata": {},
   "outputs": [],
   "source": []
  },
  {
   "cell_type": "code",
   "execution_count": null,
   "metadata": {},
   "outputs": [],
   "source": []
  },
  {
   "cell_type": "code",
   "execution_count": 22,
   "metadata": {},
   "outputs": [
    {
     "data": {
      "text/plain": [
       "Scalable(\n",
       "  (histories): ModuleList(\n",
       "    (0): History(789294, 512, emb_device=cpu, device=cuda:0)\n",
       "  )\n",
       "  (convs): ModuleList(\n",
       "    (0): SAGEConv(768, 512)\n",
       "    (1): SAGEConv(512, 256)\n",
       "  )\n",
       "  (pool): AsyncIOPool(pool_size=4, buffer_size=70000, embedding_dim=512, device=cuda:0)\n",
       ")"
      ]
     },
     "execution_count": 22,
     "metadata": {},
     "output_type": "execute_result"
    }
   ],
   "source": [
    "model = Scalable(num_of_nodes=len(data_init.x), in_channels=len(data_init.x[0]), hidden_channels=512,out_channels=256, num_layers=2)\n",
    "model.to(device)"
   ]
  },
  {
   "cell_type": "code",
   "execution_count": 16,
   "metadata": {},
   "outputs": [],
   "source": [
    "train_loader = NeighborSampler(data_init.edge_index, batch_size = 1000, sizes=[-1]*2)"
   ]
  },
  {
   "cell_type": "code",
   "execution_count": 29,
   "metadata": {
    "scrolled": true
   },
   "outputs": [
    {
     "name": "stdout",
     "output_type": "stream",
     "text": [
      "92 tensor(0.7249, device='cuda:0', grad_fn=<DivBackward0>)\n",
      "0:07:10.537233\n",
      "93 tensor(0.7231, device='cuda:0', grad_fn=<DivBackward0>)\n",
      "0:07:10.421050\n",
      "94 tensor(0.7232, device='cuda:0', grad_fn=<DivBackward0>)\n",
      "0:07:12.945003\n",
      "95 tensor(0.7230, device='cuda:0', grad_fn=<DivBackward0>)\n",
      "0:07:17.762876\n",
      "96 tensor(0.7225, device='cuda:0', grad_fn=<DivBackward0>)\n",
      "0:07:15.455833\n",
      "97 tensor(0.7224, device='cuda:0', grad_fn=<DivBackward0>)\n",
      "0:07:12.769316\n"
     ]
    },
    {
     "ename": "KeyboardInterrupt",
     "evalue": "",
     "output_type": "error",
     "traceback": [
      "\u001b[1;31m---------------------------------------------------------------------------\u001b[0m",
      "\u001b[1;31mKeyboardInterrupt\u001b[0m                         Traceback (most recent call last)",
      "\u001b[1;32m<ipython-input-29-af2aafcd5750>\u001b[0m in \u001b[0;36m<module>\u001b[1;34m\u001b[0m\n\u001b[0;32m      7\u001b[0m \u001b[1;32mfor\u001b[0m \u001b[0mepoch\u001b[0m \u001b[1;32min\u001b[0m \u001b[0mrange\u001b[0m\u001b[1;33m(\u001b[0m\u001b[1;36m92\u001b[0m\u001b[1;33m,\u001b[0m\u001b[1;36m350\u001b[0m\u001b[1;33m)\u001b[0m\u001b[1;33m:\u001b[0m\u001b[1;33m\u001b[0m\u001b[1;33m\u001b[0m\u001b[0m\n\u001b[0;32m      8\u001b[0m         \u001b[0md\u001b[0m\u001b[1;33m=\u001b[0m\u001b[0mdatetime\u001b[0m\u001b[1;33m.\u001b[0m\u001b[0mnow\u001b[0m\u001b[1;33m(\u001b[0m\u001b[1;33m)\u001b[0m\u001b[1;33m\u001b[0m\u001b[1;33m\u001b[0m\u001b[0m\n\u001b[1;32m----> 9\u001b[1;33m         \u001b[0mloss\u001b[0m\u001b[1;33m=\u001b[0m\u001b[0mtrain\u001b[0m\u001b[1;33m(\u001b[0m\u001b[0mmodel\u001b[0m\u001b[1;33m,\u001b[0m\u001b[0mdata_init\u001b[0m\u001b[1;33m,\u001b[0m\u001b[0mtrain_loader\u001b[0m\u001b[1;33m,\u001b[0m\u001b[0mnum_negative_smples\u001b[0m\u001b[1;33m,\u001b[0m\u001b[0mdevice\u001b[0m\u001b[1;33m)\u001b[0m\u001b[1;33m\u001b[0m\u001b[1;33m\u001b[0m\u001b[0m\n\u001b[0m\u001b[0;32m     10\u001b[0m         \u001b[0mlosses_to_plot\u001b[0m\u001b[1;33m.\u001b[0m\u001b[0mappend\u001b[0m\u001b[1;33m(\u001b[0m\u001b[0mfloat\u001b[0m\u001b[1;33m(\u001b[0m\u001b[0mloss\u001b[0m\u001b[1;33m)\u001b[0m\u001b[1;33m)\u001b[0m\u001b[1;33m\u001b[0m\u001b[1;33m\u001b[0m\u001b[0m\n\u001b[0;32m     11\u001b[0m         \u001b[0mprint\u001b[0m\u001b[1;33m(\u001b[0m\u001b[0mepoch\u001b[0m\u001b[1;33m,\u001b[0m\u001b[0mloss\u001b[0m\u001b[1;33m)\u001b[0m\u001b[1;33m\u001b[0m\u001b[1;33m\u001b[0m\u001b[0m\n",
      "\u001b[1;32m<ipython-input-12-fded492fbfd9>\u001b[0m in \u001b[0;36mtrain\u001b[1;34m(model, data, loader, num_negative_smples, device)\u001b[0m\n\u001b[0;32m     16\u001b[0m         \u001b[0mdata_to_infer\u001b[0m \u001b[1;33m=\u001b[0m \u001b[0mdata\u001b[0m\u001b[1;33m.\u001b[0m\u001b[0mx\u001b[0m\u001b[1;33m[\u001b[0m\u001b[0mn_id\u001b[0m\u001b[1;33m.\u001b[0m\u001b[0mto\u001b[0m\u001b[1;33m(\u001b[0m\u001b[0mdevice\u001b[0m\u001b[1;33m)\u001b[0m\u001b[1;33m]\u001b[0m\u001b[1;33m.\u001b[0m\u001b[0mto\u001b[0m\u001b[1;33m(\u001b[0m\u001b[0mdevice\u001b[0m\u001b[1;33m)\u001b[0m\u001b[1;33m\u001b[0m\u001b[1;33m\u001b[0m\u001b[0m\n\u001b[0;32m     17\u001b[0m             \u001b[1;31m#data_to_infer = data_to_infer.to(device)\u001b[0m\u001b[1;33m\u001b[0m\u001b[1;33m\u001b[0m\u001b[1;33m\u001b[0m\u001b[0m\n\u001b[1;32m---> 18\u001b[1;33m         \u001b[0mout\u001b[0m \u001b[1;33m=\u001b[0m \u001b[0mmodel\u001b[0m\u001b[1;33m.\u001b[0m\u001b[0mforward\u001b[0m\u001b[1;33m(\u001b[0m\u001b[0mdata_to_infer\u001b[0m\u001b[1;33m,\u001b[0m \u001b[0madjs\u001b[0m\u001b[1;33m,\u001b[0m\u001b[0mbatch_size\u001b[0m\u001b[1;33m,\u001b[0m\u001b[0mn_id\u001b[0m\u001b[1;33m)\u001b[0m\u001b[1;33m\u001b[0m\u001b[1;33m\u001b[0m\u001b[0m\n\u001b[0m\u001b[0;32m     19\u001b[0m         \u001b[1;31m#print(out.shape)\u001b[0m\u001b[1;33m\u001b[0m\u001b[1;33m\u001b[0m\u001b[1;33m\u001b[0m\u001b[0m\n\u001b[0;32m     20\u001b[0m         \u001b[1;31m###\u001b[0m\u001b[1;33m\u001b[0m\u001b[1;33m\u001b[0m\u001b[1;33m\u001b[0m\u001b[0m\n",
      "\u001b[1;32m~\\Desktop\\Recommendation_articles\\train\\Model.py\u001b[0m in \u001b[0;36mforward\u001b[1;34m(self, x, adjs, *args)\u001b[0m\n\u001b[0;32m     28\u001b[0m             \u001b[1;32mif\u001b[0m \u001b[0mi\u001b[0m \u001b[1;33m!=\u001b[0m \u001b[0mself\u001b[0m\u001b[1;33m.\u001b[0m\u001b[0mnum_layers\u001b[0m \u001b[1;33m-\u001b[0m \u001b[1;36m1\u001b[0m\u001b[1;33m:\u001b[0m\u001b[1;33m\u001b[0m\u001b[1;33m\u001b[0m\u001b[0m\n\u001b[0;32m     29\u001b[0m                 \u001b[0mx\u001b[0m \u001b[1;33m=\u001b[0m \u001b[0mx\u001b[0m\u001b[1;33m.\u001b[0m\u001b[0mrelu_\u001b[0m\u001b[1;33m(\u001b[0m\u001b[1;33m)\u001b[0m\u001b[1;33m\u001b[0m\u001b[1;33m\u001b[0m\u001b[0m\n\u001b[1;32m---> 30\u001b[1;33m                 \u001b[0mx\u001b[0m \u001b[1;33m=\u001b[0m \u001b[0mself\u001b[0m\u001b[1;33m.\u001b[0m\u001b[0mpush_and_pull\u001b[0m\u001b[1;33m(\u001b[0m\u001b[0mself\u001b[0m\u001b[1;33m.\u001b[0m\u001b[0mhistories\u001b[0m\u001b[1;33m[\u001b[0m\u001b[0mi\u001b[0m\u001b[1;33m]\u001b[0m\u001b[1;33m,\u001b[0m \u001b[0mx\u001b[0m\u001b[1;33m,\u001b[0m \u001b[1;33m*\u001b[0m\u001b[0margs\u001b[0m\u001b[1;33m)\u001b[0m\u001b[1;33m\u001b[0m\u001b[1;33m\u001b[0m\u001b[0m\n\u001b[0m\u001b[0;32m     31\u001b[0m \u001b[1;31m#        for i, (conv, history) in enumerate(zip(self.convs, self.histories)):\u001b[0m\u001b[1;33m\u001b[0m\u001b[1;33m\u001b[0m\u001b[1;33m\u001b[0m\u001b[0m\n\u001b[0;32m     32\u001b[0m  \u001b[1;31m#           if i == len(self.convs) - 1:\u001b[0m\u001b[1;33m\u001b[0m\u001b[1;33m\u001b[0m\u001b[1;33m\u001b[0m\u001b[0m\n",
      "\u001b[1;32mc:\\users\\user\\appdata\\local\\programs\\python\\python37\\lib\\site-packages\\torch_geometric_autoscale\\models\\base.py\u001b[0m in \u001b[0;36mpush_and_pull\u001b[1;34m(self, history, x, batch_size, n_id, offset, count)\u001b[0m\n\u001b[0;32m    180\u001b[0m         \u001b[1;32mif\u001b[0m \u001b[1;32mnot\u001b[0m \u001b[0mself\u001b[0m\u001b[1;33m.\u001b[0m\u001b[0m_async\u001b[0m\u001b[1;33m:\u001b[0m\u001b[1;33m\u001b[0m\u001b[1;33m\u001b[0m\u001b[0m\n\u001b[0;32m    181\u001b[0m             \u001b[0mhistory\u001b[0m\u001b[1;33m.\u001b[0m\u001b[0mpush\u001b[0m\u001b[1;33m(\u001b[0m\u001b[0mx\u001b[0m\u001b[1;33m[\u001b[0m\u001b[1;33m:\u001b[0m\u001b[0mbatch_size\u001b[0m\u001b[1;33m]\u001b[0m\u001b[1;33m,\u001b[0m \u001b[0mn_id\u001b[0m\u001b[1;33m[\u001b[0m\u001b[1;33m:\u001b[0m\u001b[0mbatch_size\u001b[0m\u001b[1;33m]\u001b[0m\u001b[1;33m,\u001b[0m \u001b[0moffset\u001b[0m\u001b[1;33m,\u001b[0m \u001b[0mcount\u001b[0m\u001b[1;33m)\u001b[0m\u001b[1;33m\u001b[0m\u001b[1;33m\u001b[0m\u001b[0m\n\u001b[1;32m--> 182\u001b[1;33m             \u001b[0mh\u001b[0m \u001b[1;33m=\u001b[0m \u001b[0mhistory\u001b[0m\u001b[1;33m.\u001b[0m\u001b[0mpull\u001b[0m\u001b[1;33m(\u001b[0m\u001b[0mn_id\u001b[0m\u001b[1;33m[\u001b[0m\u001b[0mbatch_size\u001b[0m\u001b[1;33m:\u001b[0m\u001b[1;33m]\u001b[0m\u001b[1;33m)\u001b[0m\u001b[1;33m\u001b[0m\u001b[1;33m\u001b[0m\u001b[0m\n\u001b[0m\u001b[0;32m    183\u001b[0m             \u001b[1;32mreturn\u001b[0m \u001b[0mtorch\u001b[0m\u001b[1;33m.\u001b[0m\u001b[0mcat\u001b[0m\u001b[1;33m(\u001b[0m\u001b[1;33m[\u001b[0m\u001b[0mx\u001b[0m\u001b[1;33m[\u001b[0m\u001b[1;33m:\u001b[0m\u001b[0mbatch_size\u001b[0m\u001b[1;33m]\u001b[0m\u001b[1;33m,\u001b[0m \u001b[0mh\u001b[0m\u001b[1;33m]\u001b[0m\u001b[1;33m,\u001b[0m \u001b[0mdim\u001b[0m\u001b[1;33m=\u001b[0m\u001b[1;36m0\u001b[0m\u001b[1;33m)\u001b[0m\u001b[1;33m\u001b[0m\u001b[1;33m\u001b[0m\u001b[0m\n\u001b[0;32m    184\u001b[0m \u001b[1;33m\u001b[0m\u001b[0m\n",
      "\u001b[1;32mc:\\users\\user\\appdata\\local\\programs\\python\\python37\\lib\\site-packages\\torch\\autograd\\grad_mode.py\u001b[0m in \u001b[0;36mdecorate_context\u001b[1;34m(*args, **kwargs)\u001b[0m\n\u001b[0;32m     24\u001b[0m         \u001b[1;32mdef\u001b[0m \u001b[0mdecorate_context\u001b[0m\u001b[1;33m(\u001b[0m\u001b[1;33m*\u001b[0m\u001b[0margs\u001b[0m\u001b[1;33m,\u001b[0m \u001b[1;33m**\u001b[0m\u001b[0mkwargs\u001b[0m\u001b[1;33m)\u001b[0m\u001b[1;33m:\u001b[0m\u001b[1;33m\u001b[0m\u001b[1;33m\u001b[0m\u001b[0m\n\u001b[0;32m     25\u001b[0m             \u001b[1;32mwith\u001b[0m \u001b[0mself\u001b[0m\u001b[1;33m.\u001b[0m\u001b[0m__class__\u001b[0m\u001b[1;33m(\u001b[0m\u001b[1;33m)\u001b[0m\u001b[1;33m:\u001b[0m\u001b[1;33m\u001b[0m\u001b[1;33m\u001b[0m\u001b[0m\n\u001b[1;32m---> 26\u001b[1;33m                 \u001b[1;32mreturn\u001b[0m \u001b[0mfunc\u001b[0m\u001b[1;33m(\u001b[0m\u001b[1;33m*\u001b[0m\u001b[0margs\u001b[0m\u001b[1;33m,\u001b[0m \u001b[1;33m**\u001b[0m\u001b[0mkwargs\u001b[0m\u001b[1;33m)\u001b[0m\u001b[1;33m\u001b[0m\u001b[1;33m\u001b[0m\u001b[0m\n\u001b[0m\u001b[0;32m     27\u001b[0m         \u001b[1;32mreturn\u001b[0m \u001b[0mcast\u001b[0m\u001b[1;33m(\u001b[0m\u001b[0mF\u001b[0m\u001b[1;33m,\u001b[0m \u001b[0mdecorate_context\u001b[0m\u001b[1;33m)\u001b[0m\u001b[1;33m\u001b[0m\u001b[1;33m\u001b[0m\u001b[0m\n\u001b[0;32m     28\u001b[0m \u001b[1;33m\u001b[0m\u001b[0m\n",
      "\u001b[1;32mc:\\users\\user\\appdata\\local\\programs\\python\\python37\\lib\\site-packages\\torch_geometric_autoscale\\history.py\u001b[0m in \u001b[0;36mpull\u001b[1;34m(self, n_id)\u001b[0m\n\u001b[0;32m     35\u001b[0m             \u001b[1;32massert\u001b[0m \u001b[0mn_id\u001b[0m\u001b[1;33m.\u001b[0m\u001b[0mdevice\u001b[0m \u001b[1;33m==\u001b[0m \u001b[0mself\u001b[0m\u001b[1;33m.\u001b[0m\u001b[0memb\u001b[0m\u001b[1;33m.\u001b[0m\u001b[0mdevice\u001b[0m\u001b[1;33m\u001b[0m\u001b[1;33m\u001b[0m\u001b[0m\n\u001b[0;32m     36\u001b[0m             \u001b[0mout\u001b[0m \u001b[1;33m=\u001b[0m \u001b[0mout\u001b[0m\u001b[1;33m.\u001b[0m\u001b[0mindex_select\u001b[0m\u001b[1;33m(\u001b[0m\u001b[1;36m0\u001b[0m\u001b[1;33m,\u001b[0m \u001b[0mn_id\u001b[0m\u001b[1;33m)\u001b[0m\u001b[1;33m\u001b[0m\u001b[1;33m\u001b[0m\u001b[0m\n\u001b[1;32m---> 37\u001b[1;33m         \u001b[1;32mreturn\u001b[0m \u001b[0mout\u001b[0m\u001b[1;33m.\u001b[0m\u001b[0mto\u001b[0m\u001b[1;33m(\u001b[0m\u001b[0mdevice\u001b[0m\u001b[1;33m=\u001b[0m\u001b[0mself\u001b[0m\u001b[1;33m.\u001b[0m\u001b[0m_device\u001b[0m\u001b[1;33m)\u001b[0m\u001b[1;33m\u001b[0m\u001b[1;33m\u001b[0m\u001b[0m\n\u001b[0m\u001b[0;32m     38\u001b[0m \u001b[1;33m\u001b[0m\u001b[0m\n\u001b[0;32m     39\u001b[0m     \u001b[1;33m@\u001b[0m\u001b[0mtorch\u001b[0m\u001b[1;33m.\u001b[0m\u001b[0mno_grad\u001b[0m\u001b[1;33m(\u001b[0m\u001b[1;33m)\u001b[0m\u001b[1;33m\u001b[0m\u001b[1;33m\u001b[0m\u001b[0m\n",
      "\u001b[1;31mKeyboardInterrupt\u001b[0m: "
     ]
    }
   ],
   "source": [
    "d = datetime.now()\n",
    "optimizer = torch.optim.Adam(model.parameters(), lr=0.0005,weight_decay = 1e-5)\n",
    "num_negative_smples=4\n",
    "#losses_to_plot=[]\n",
    "scores=[]\n",
    "d=datetime.now()\n",
    "for epoch in range(92,350):\n",
    "        d=datetime.now()\n",
    "        loss=train(model,data_init,train_loader,num_negative_smples,device)\n",
    "        losses_to_plot.append(float(loss))\n",
    "        print(epoch,loss)\n",
    "        if epoch%11==0:\n",
    "            torch.save(model.state_dict(),'model_parameters')\n",
    "        print(datetime.now()-d)\n",
    "plt.plot(losses_to_plot)\n",
    "plt.show()\n",
    "#plt.plot(torch.tensor(scores).tolist())\n",
    "#plt.show()"
   ]
  },
  {
   "cell_type": "code",
   "execution_count": 26,
   "metadata": {},
   "outputs": [],
   "source": [
    "torch.save(model.state_dict(),'model_parameters')"
   ]
  },
  {
   "cell_type": "code",
   "execution_count": 30,
   "metadata": {},
   "outputs": [
    {
     "data": {
      "image/png": "[encoded data removed]",
      "text/plain": [
       "<Figure size 640x480 with 1 Axes>"
      ]
     },
     "metadata": {},
     "output_type": "display_data"
    }
   ],
   "source": [
    "plt.plot(losses_to_plot) #256\n",
    "plt.show()"
   ]
  },
  {
   "cell_type": "code",
   "execution_count": 34,
   "metadata": {},
   "outputs": [
    {
     "data": {
      "image/png": "[encoded data removed]",
      "text/plain": [
       "<Figure size 640x480 with 1 Axes>"
      ]
     },
     "metadata": {},
     "output_type": "display_data"
    }
   ],
   "source": [
    "plt.plot(losses_to_plot) #128\n",
    "plt.show()"
   ]
  },
  {
   "cell_type": "code",
   "execution_count": null,
   "metadata": {},
   "outputs": [],
   "source": [
    "sum(sum(model.histories[0].emb))"
   ]
  },
  {
   "cell_type": "code",
   "execution_count": null,
   "metadata": {},
   "outputs": [],
   "source": [
    "model.to(device)"
   ]
  },
  {
   "cell_type": "code",
   "execution_count": 28,
   "metadata": {
    "scrolled": true
   },
   "outputs": [
    {
     "name": "stdout",
     "output_type": "stream",
     "text": [
      "0.8731328994535659\n",
      "0:04:06.146188\n"
     ]
    }
   ],
   "source": [
    "#validation\n",
    "d=datetime.now()\n",
    "test_loader  = NeighborSampler(data_init.edge_index, batch_size = 1000, sizes=[-1]*2)\n",
    "print(test(y_true_val,model,data_init,val_edge_index,test_loader))\n",
    "print(datetime.now()-d)\n",
    "#loss 0.7538 128 "
   ]
  },
  {
   "cell_type": "code",
   "execution_count": null,
   "metadata": {},
   "outputs": [],
   "source": [
    "#validation\n",
    "d=datetime.now()\n",
    "test_loader  = NeighborSampler(data_init.edge_index, batch_size = 700, sizes=[-1]*2)\n",
    "print(test(y_true_val,model,data_init,val_edge_index,test_loader))\n",
    "print(datetime.now()-d)\n",
    "#loss 0.7224 256"
   ]
  },
  {
   "cell_type": "markdown",
   "metadata": {},
   "source": [
    "# Saving model"
   ]
  },
  {
   "cell_type": "code",
   "execution_count": null,
   "metadata": {},
   "outputs": [],
   "source": [
    "torch.save(model.state_dict(),'model_parameters_proverka')"
   ]
  },
  {
   "cell_type": "markdown",
   "metadata": {},
   "source": [
    "# Сам инференс"
   ]
  },
  {
   "cell_type": "markdown",
   "metadata": {},
   "source": [
    "### принимает параметры: \n",
    "* vertex = tuple(id, text_emb)\n",
    "\n",
    "* neighbors = [(id, text_emb), (..)] (list of tuples)\n",
    "\n",
    "* neighbors_of_neighbors = [(id, text_emb), (..)]"
   ]
  },
  {
   "cell_type": "code",
   "execution_count": null,
   "metadata": {},
   "outputs": [],
   "source": [
    "#test\n",
    "x=model2.inference()"
   ]
  },
  {
   "cell_type": "markdown",
   "metadata": {},
   "source": [
    "# plotting"
   ]
  },
  {
   "cell_type": "code",
   "execution_count": null,
   "metadata": {},
   "outputs": [],
   "source": [
    "G = igraph.Graph.TupleList(rels, weights=False, directed=True)\n",
    "igraph.summary(G)"
   ]
  },
  {
   "cell_type": "code",
   "execution_count": null,
   "metadata": {},
   "outputs": [],
   "source": [
    "import plotly.graph_objs as go\n",
    "from plotly.offline import init_notebook_mode, iplot\n",
    "import math\n",
    "# plot tree\n",
    "init_notebook_mode()\n",
    "def plot(G, annotations=False):\n",
    "\n",
    "    lay = G.layout_fruchterman_reingold(grid=\"nogrid\", niter=1000)\n",
    "    nr_vertices = len(G.vs)\n",
    "    position = {k: lay[k] for k in range(nr_vertices)}\n",
    "    Y = [lay[k][1] for k in range(nr_vertices)]\n",
    "    M = max(Y)\n",
    "    labels = [x['name'] for x in G.vs()]\n",
    "    es = igraph.EdgeSeq(G) # sequence of edges\n",
    "    E = [e.tuple for e in G.es] # list of edges\n",
    "\n",
    "    L = len(position)\n",
    "    Xn = [position[k][0] for k in range(L)]\n",
    "    Yn = [2*M-position[k][1] for k in range(L)]\n",
    "    Xe = []\n",
    "    Ye = []\n",
    "    for edge in E:\n",
    "        Xe+=[position[edge[0]][0],position[edge[1]][0], None]\n",
    "        Ye+=[2*M-position[edge[0]][1],2*M-position[edge[1]][1], None] \n",
    "\n",
    "\n",
    "    #Create Plotly Traces\n",
    "\n",
    "    lines = go.Scatter(x=Xe,\n",
    "                       y=Ye,\n",
    "                       mode='lines',\n",
    "                       line=dict(color='rgb(210,210,210)', width=1),\n",
    "                       hoverinfo='none'\n",
    "                       )\n",
    "    dots = go.Scatter(x=Xn,\n",
    "                      y=Yn,\n",
    "                      mode='markers',\n",
    "                      name='',\n",
    "                      marker=dict(  colorbar=dict(\n",
    "                                        title=\"Modularity\"\n",
    "                                    ),\n",
    "                                    colorscale=\"Viridis\",\n",
    "                                    \n",
    "                                  \n",
    "                                    line=dict(color='rgb(50,50,50)', width=1)\n",
    "                                    ),\n",
    "                      \n",
    "                      hoverinfo='text',\n",
    "                      opacity=0.8\n",
    "                      )\n",
    "\n",
    "    # Create Text Inside the Circle via Annotations\n",
    "\n",
    "    def make_annotations(pos, text, font_size=10, \n",
    "                         font_color='rgb(0,0,0)'):\n",
    "        L=len(pos)\n",
    "        if len(text)!=L:\n",
    "            raise ValueError('The lists pos and text must have the same len')\n",
    "        annotations = go.Annotations()\n",
    "        for k in range(L):\n",
    "            annotations.append(\n",
    "                go.Annotation(\n",
    "                    text=labels[k], # or replace labels with a different list \n",
    "                                    # for the text within the circle  \n",
    "                    x=pos[k][0], y=2*M-position[k][1],\n",
    "                    xref='x1', yref='y1',\n",
    "                    font=dict(color=font_color, size=font_size),\n",
    "                    showarrow=False)\n",
    "            )\n",
    "        return annotations  \n",
    "\n",
    "    # Add Axis Specifications and Create the Layout\n",
    "\n",
    "    axis = dict(showline=False, # hide axis line, grid, ticklabels and  title\n",
    "                zeroline=False,\n",
    "                showgrid=False,\n",
    "                showticklabels=False,\n",
    "                )\n",
    "    ann = []\n",
    "    if annotations:\n",
    "        ann = make_annotations(position, labels)\n",
    "    layout = dict(#title= 'Tree with Reingold-Tilford Layout',  \n",
    "                  height=900,\n",
    "                  annotations=ann,\n",
    "                  font=dict(size=12),\n",
    "                  showlegend=False,\n",
    "                  xaxis=go.XAxis(axis),\n",
    "                  yaxis=go.YAxis(axis),          \n",
    "                  margin=dict(l=40, r=40, b=85, t=100),\n",
    "                  hovermode='closest',\n",
    "                  plot_bgcolor='rgb(248,248,248)'          \n",
    "                  )\n",
    "\n",
    "    # Plot\n",
    "\n",
    "    data=go.Data([lines, dots])\n",
    "    fig=dict(data=data, layout=layout)\n",
    "    #fig['layout'].update(annotations=make_annotations(position, labels))\n",
    "    iplot(fig, filename='Tree-Reingold-Tilf')\n",
    "    # use py.plot instead of py.iplot if you're not using a Jupyter notebook"
   ]
  },
  {
   "cell_type": "code",
   "execution_count": null,
   "metadata": {},
   "outputs": [],
   "source": [
    "plot(G)"
   ]
  },
  {
   "cell_type": "code",
   "execution_count": null,
   "metadata": {},
   "outputs": [],
   "source": []
  },
  {
   "cell_type": "code",
   "execution_count": null,
   "metadata": {},
   "outputs": [],
   "source": []
  },
  {
   "cell_type": "code",
   "execution_count": null,
   "metadata": {},
   "outputs": [],
   "source": []
  },
  {
   "cell_type": "markdown",
   "metadata": {},
   "source": [
    "# optuna todo "
   ]
  },
  {
   "cell_type": "code",
   "execution_count": null,
   "metadata": {},
   "outputs": [],
   "source": [
    "def objective(trial):\n",
    "    \n",
    "        data,mapping_new_to_old=data_loader()\n",
    "        print(data)\n",
    "        perm, ptr = metis(data.adj_t, num_parts=40, log=True)\n",
    "        data_train = permute(data, perm, log=True)\n",
    "        loader = SubgraphLoader(data_train, ptr, batch_size=10, shuffle=True)\n",
    "        len(loader)\n",
    "\n",
    "        hidden_layer = trial.suggest_categorical(\"hidden_layer\", [32,64,128,256])\n",
    "        out_layer = trial.suggest_categorical(\"out_layer\", [64,128])\n",
    "        size = trial.suggest_categorical(\"size of network, number of convs\", [2,3])\n",
    "        num_negative_samples=trial.suggest_categorical('num neg samples', [1,2,3,4,5,6,7,8,9,10])\n",
    "        model = Scalable(num_nodes=len(data.x), in_channels=len(data.x[0]), hidden_channels=hidden_layer,out_channels=out_layer, num_layers=size)\n",
    "        learning_rate= trial.suggest_float(\"lr\",5e-4,1e-2)\n",
    "        optimizer = torch.optim.Adam(model.parameters(), lr=learning_rate,weight_decay = 1e-5)  \n",
    "\n",
    "        for epoch in range(50):\n",
    "            loss = train(model,loader,num_negative_smples)\n",
    "        score=test(y_true_val,model,data,val_edge_index)\n",
    "        \n",
    "        trial.report(score,epoch)\n",
    "\n",
    "        return score"
   ]
  },
  {
   "cell_type": "code",
   "execution_count": null,
   "metadata": {},
   "outputs": [],
   "source": [
    "import optuna\n",
    "study = optuna.create_study(direction=\"maximize\")\n",
    "study.optimize(objective,n_trials = 20)\n",
    "\n",
    "print('Best trial:')\n",
    "trial = study.best_trial\n",
    "print(\" Value: \", trial.value)\n",
    "print(\" Params: \")\n",
    "for key, value in trial.params.items():\n",
    "    print(\" {}: {}\".format(key,value))"
   ]
  },
  {
   "cell_type": "code",
   "execution_count": null,
   "metadata": {},
   "outputs": [],
   "source": []
  },
  {
   "cell_type": "code",
   "execution_count": null,
   "metadata": {},
   "outputs": [],
   "source": [
    "def data_load(): #загрузить и обработать данные\n",
    "   # with open('assets (16)','r', encoding=\"utf-8\") as f:\n",
    "    #    assets = json.load(f)\n",
    "\n",
    "    with open('embeddings.json','r') as f:\n",
    "        emb_map = json.load(f)\n",
    "\n",
    "    #rels = []\n",
    "    rels = pd.read_csv('relations.csv')\n",
    "    rels=list(zip(list(rels['from']),list(rels['to'])))\n",
    "    to_uuid = lambda x: str(UUID(b64d(x, altchars=None, validate=False).hex()))\n",
    "    #for asset in assets:\n",
    "     #   if asset['cited_articles']:\n",
    "      #      source = to_uuid(asset['asset_id']['$binary'])\n",
    "       #     for tt in  asset['cited_articles']:\n",
    "        #        target = to_uuid(tt['$binary'])\n",
    "         #       rels.append(tuple([source,target]))\n",
    "\n",
    "    rels = [x for x in rels if x[0] in emb_map and x[1] in emb_map]\n",
    "    mapping_old_to_new={}\n",
    "    mapping_new_to_old = {}\n",
    "    \n",
    "    for id_new,id_old in enumerate(emb_map):\n",
    "            mapping_old_to_new[id_old] = id_new\n",
    "            mapping_new_to_old[id_new] = id_old\n",
    "            \n",
    "    x = []\n",
    "    for id_new,id_old in enumerate(emb_map):\n",
    "        x.append(emb_map[id_old]) \n",
    "        \n",
    "    edges = list(map(lambda edge: [mapping_old_to_new[edge[0]], mapping_old_to_new[edge[1]]], rels)) \n",
    "\n",
    "    G = nx.Graph()\n",
    "    G.add_edges_from(edges) #чтоб граф точно был направленным, в Graph ребра в одну сторону выписываются, хотя и считаются ненаправленными\n",
    "    \n",
    "    data_init = Data(x=torch.tensor(x),edge_index = torch.tensor(list(G.edges)).t() ) #тут все ребра\n",
    "    return  data_init,mapping_new_to_old,mapping_old_to_new"
   ]
  },
  {
   "cell_type": "code",
   "execution_count": null,
   "metadata": {},
   "outputs": [],
   "source": []
  }
 ],
 "metadata": {
  "kernelspec": {
   "display_name": "Python 3",
   "language": "python",
   "name": "python3"
  },
  "language_info": {
   "codemirror_mode": {
    "name": "ipython",
    "version": 3
   },
   "file_extension": ".py",
   "mimetype": "text/x-python",
   "name": "python",
   "nbconvert_exporter": "python",
   "pygments_lexer": "ipython3",
   "version": "3.7.7"
  }
 },
 "nbformat": 4,
 "nbformat_minor": 4
}
